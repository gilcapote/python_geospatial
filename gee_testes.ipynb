{
  "nbformat": 4,
  "nbformat_minor": 0,
  "metadata": {
    "colab": {
      "provenance": [],
      "authorship_tag": "ABX9TyOz7WdkvHqWwbHdhlDXsVQw",
      "include_colab_link": true
    },
    "kernelspec": {
      "name": "python3",
      "display_name": "Python 3"
    },
    "language_info": {
      "name": "python"
    },
    "widgets": {
      "application/vnd.jupyter.widget-state+json": {
        "3d79a2663fff451cae10d26169956b5e": {
          "model_module": "jupyter-leaflet",
          "model_name": "LeafletMapModel",
          "model_module_version": "^0.17",
          "state": {
            "_dom_classes": [],
            "_model_module": "jupyter-leaflet",
            "_model_module_version": "^0.17",
            "_model_name": "LeafletMapModel",
            "_view_count": null,
            "_view_module": "jupyter-leaflet",
            "_view_module_version": "^0.17",
            "_view_name": "LeafletMapView",
            "bottom": 5112,
            "bounce_at_zoom_limits": true,
            "box_zoom": true,
            "center": [
              -30,
              -51
            ],
            "close_popup_on_click": true,
            "controls": [
              "IPY_MODEL_320d13a4c37644e690f981f4a09f9de7",
              "IPY_MODEL_eb472e94e1454683a2018ff0c6918baa",
              "IPY_MODEL_2d147521e4ef4430985043f0f236e1f8",
              "IPY_MODEL_9d95954e12c34790aca056c3ce922d22",
              "IPY_MODEL_cd8fc36a7f50413393e6f5fef46fac7c",
              "IPY_MODEL_c05654a6c4eb4c7ebe169d7aa02c0886",
              "IPY_MODEL_edee9f6b72ed42d396560c3faf734472",
              "IPY_MODEL_345d058390f44d1f91f20870d58827df",
              "IPY_MODEL_5fc62c82113c4ce682c7b55a25405f22",
              "IPY_MODEL_77aa13e3ba064a86acec8a2c9279e4f9"
            ],
            "crs": {
              "name": "EPSG3857",
              "custom": false
            },
            "default_style": "IPY_MODEL_db2bcc59ef994e26ab3c82490aac1b8b",
            "double_click_zoom": true,
            "dragging": true,
            "dragging_style": "IPY_MODEL_255f5fc86c804134b8a6ad07255de9c8",
            "east": -11.601562500000002,
            "fullscreen": false,
            "inertia": true,
            "inertia_deceleration": 3000,
            "inertia_max_speed": 1500,
            "interpolation": "bilinear",
            "keyboard": true,
            "keyboard_pan_offset": 80,
            "keyboard_zoom_offset": 1,
            "layers": [
              "IPY_MODEL_ddae6071ac2b46cabf48dac89f3de8d5",
              "IPY_MODEL_6f0decf6aee34f9685779c8aa414f9d3",
              "IPY_MODEL_88900d0f03434dff88ebd7e0b62b028b",
              "IPY_MODEL_dd544037f0954c868d5703bf9cf07e28",
              "IPY_MODEL_da93196fa6ea4f2d8ceb4277ae16ddad",
              "IPY_MODEL_3f92f135bb03433190efdd9d6ed6e8ca",
              "IPY_MODEL_cdd476bff4d1489b883593ba304dfc2c"
            ],
            "layout": "IPY_MODEL_e996f690ce0e42ca83d3b988810b6286",
            "left": 2038,
            "max_zoom": 24,
            "min_zoom": null,
            "modisdate": "2023-04-19",
            "north": -17.978733095556155,
            "options": [
              "bounce_at_zoom_limits",
              "box_zoom",
              "center",
              "close_popup_on_click",
              "double_click_zoom",
              "dragging",
              "fullscreen",
              "inertia",
              "inertia_deceleration",
              "inertia_max_speed",
              "interpolation",
              "keyboard",
              "keyboard_pan_offset",
              "keyboard_zoom_offset",
              "max_zoom",
              "min_zoom",
              "prefer_canvas",
              "scroll_wheel_zoom",
              "tap",
              "tap_tolerance",
              "touch_zoom",
              "world_copy_jump",
              "zoom",
              "zoom_animation_threshold",
              "zoom_delta",
              "zoom_snap"
            ],
            "panes": {},
            "prefer_canvas": false,
            "right": 3832,
            "scroll_wheel_zoom": true,
            "south": -40.713955826286046,
            "style": "IPY_MODEL_d66e4fad9bd24b5490e75a860dfb4707",
            "tap": true,
            "tap_tolerance": 15,
            "top": 4512,
            "touch_zoom": true,
            "west": -90.43945312500001,
            "window_url": "https://d9grhky5ed-496ff2e9c6d22116-0-colab.googleusercontent.com/outputframe.html?vrz=colab-20230418-060204-RC01_525252871",
            "world_copy_jump": false,
            "zoom": 5,
            "zoom_animation_threshold": 4,
            "zoom_delta": 1,
            "zoom_snap": 1
          }
        },
        "320d13a4c37644e690f981f4a09f9de7": {
          "model_module": "jupyter-leaflet",
          "model_name": "LeafletWidgetControlModel",
          "model_module_version": "^0.17",
          "state": {
            "_model_module": "jupyter-leaflet",
            "_model_module_version": "^0.17",
            "_model_name": "LeafletWidgetControlModel",
            "_view_count": null,
            "_view_module": "jupyter-leaflet",
            "_view_module_version": "^0.17",
            "_view_name": "LeafletWidgetControlView",
            "max_height": null,
            "max_width": null,
            "min_height": null,
            "min_width": null,
            "options": [
              "position",
              "transparent_bg"
            ],
            "position": "topleft",
            "transparent_bg": false,
            "widget": "IPY_MODEL_53369291ac704dedb3b333474cf2eb3f"
          }
        },
        "eb472e94e1454683a2018ff0c6918baa": {
          "model_module": "jupyter-leaflet",
          "model_name": "LeafletZoomControlModel",
          "model_module_version": "^0.17",
          "state": {
            "_model_module": "jupyter-leaflet",
            "_model_module_version": "^0.17",
            "_model_name": "LeafletZoomControlModel",
            "_view_count": null,
            "_view_module": "jupyter-leaflet",
            "_view_module_version": "^0.17",
            "_view_name": "LeafletZoomControlView",
            "options": [
              "position",
              "zoom_in_text",
              "zoom_in_title",
              "zoom_out_text",
              "zoom_out_title"
            ],
            "position": "topleft",
            "zoom_in_text": "+",
            "zoom_in_title": "Zoom in",
            "zoom_out_text": "-",
            "zoom_out_title": "Zoom out"
          }
        },
        "2d147521e4ef4430985043f0f236e1f8": {
          "model_module": "jupyter-leaflet",
          "model_name": "LeafletScaleControlModel",
          "model_module_version": "^0.17",
          "state": {
            "_model_module": "jupyter-leaflet",
            "_model_module_version": "^0.17",
            "_model_name": "LeafletScaleControlModel",
            "_view_count": null,
            "_view_module": "jupyter-leaflet",
            "_view_module_version": "^0.17",
            "_view_name": "LeafletScaleControlView",
            "imperial": true,
            "max_width": 100,
            "metric": true,
            "options": [
              "imperial",
              "max_width",
              "metric",
              "position",
              "update_when_idle"
            ],
            "position": "bottomleft",
            "update_when_idle": false
          }
        },
        "9d95954e12c34790aca056c3ce922d22": {
          "model_module": "jupyter-leaflet",
          "model_name": "LeafletFullScreenControlModel",
          "model_module_version": "^0.17",
          "state": {
            "_model_module": "jupyter-leaflet",
            "_model_module_version": "^0.17",
            "_model_name": "LeafletFullScreenControlModel",
            "_view_count": null,
            "_view_module": "jupyter-leaflet",
            "_view_module_version": "^0.17",
            "_view_name": "LeafletFullScreenControlView",
            "options": [
              "position"
            ],
            "position": "topleft"
          }
        },
        "cd8fc36a7f50413393e6f5fef46fac7c": {
          "model_module": "jupyter-leaflet",
          "model_name": "LeafletMeasureControlModel",
          "model_module_version": "^0.17",
          "state": {
            "_custom_units": {},
            "_model_module": "jupyter-leaflet",
            "_model_module_version": "^0.17",
            "_model_name": "LeafletMeasureControlModel",
            "_view_count": null,
            "_view_module": "jupyter-leaflet",
            "_view_module_version": "^0.17",
            "_view_name": "LeafletMeasureControlView",
            "active_color": "orange",
            "capture_z_index": 10000,
            "completed_color": "#C8F2BE",
            "options": [
              "active_color",
              "capture_z_index",
              "completed_color",
              "popup_options",
              "position",
              "primary_area_unit",
              "primary_length_unit",
              "secondary_area_unit",
              "secondary_length_unit"
            ],
            "popup_options": {
              "className": "leaflet-measure-resultpopup",
              "autoPanPadding": [
                10,
                10
              ]
            },
            "position": "bottomleft",
            "primary_area_unit": "acres",
            "primary_length_unit": "kilometers",
            "secondary_area_unit": null,
            "secondary_length_unit": null
          }
        },
        "c05654a6c4eb4c7ebe169d7aa02c0886": {
          "model_module": "jupyter-leaflet",
          "model_name": "LeafletAttributionControlModel",
          "model_module_version": "^0.17",
          "state": {
            "_model_module": "jupyter-leaflet",
            "_model_module_version": "^0.17",
            "_model_name": "LeafletAttributionControlModel",
            "_view_count": null,
            "_view_module": "jupyter-leaflet",
            "_view_module_version": "^0.17",
            "_view_name": "LeafletAttributionControlView",
            "options": [
              "position",
              "prefix"
            ],
            "position": "bottomright",
            "prefix": "ipyleaflet"
          }
        },
        "edee9f6b72ed42d396560c3faf734472": {
          "model_module": "jupyter-leaflet",
          "model_name": "LeafletDrawControlModel",
          "model_module_version": "^0.17",
          "state": {
            "_model_module": "jupyter-leaflet",
            "_model_module_version": "^0.17",
            "_model_name": "LeafletDrawControlModel",
            "_view_count": null,
            "_view_module": "jupyter-leaflet",
            "_view_module_version": "^0.17",
            "_view_name": "LeafletDrawControlView",
            "circle": {
              "shapeOptions": {
                "color": "#3388ff"
              }
            },
            "circlemarker": {},
            "data": [],
            "edit": true,
            "marker": {
              "shapeOptions": {
                "color": "#3388ff"
              }
            },
            "options": [
              "position"
            ],
            "polygon": {
              "shapeOptions": {}
            },
            "polyline": {
              "shapeOptions": {}
            },
            "position": "topleft",
            "rectangle": {
              "shapeOptions": {
                "color": "#3388ff"
              }
            },
            "remove": true
          }
        },
        "345d058390f44d1f91f20870d58827df": {
          "model_module": "jupyter-leaflet",
          "model_name": "LeafletWidgetControlModel",
          "model_module_version": "^0.17",
          "state": {
            "_model_module": "jupyter-leaflet",
            "_model_module_version": "^0.17",
            "_model_name": "LeafletWidgetControlModel",
            "_view_count": null,
            "_view_module": "jupyter-leaflet",
            "_view_module_version": "^0.17",
            "_view_name": "LeafletWidgetControlView",
            "max_height": null,
            "max_width": null,
            "min_height": null,
            "min_width": null,
            "options": [
              "position",
              "transparent_bg"
            ],
            "position": "topright",
            "transparent_bg": false,
            "widget": "IPY_MODEL_9cbf087107fc42a18fcf7672f25672ef"
          }
        },
        "db2bcc59ef994e26ab3c82490aac1b8b": {
          "model_module": "jupyter-leaflet",
          "model_name": "LeafletMapStyleModel",
          "model_module_version": "^0.17",
          "state": {
            "_model_module": "jupyter-leaflet",
            "_model_module_version": "^0.17",
            "_model_name": "LeafletMapStyleModel",
            "_view_count": null,
            "_view_module": "@jupyter-widgets/base",
            "_view_module_version": "1.2.0",
            "_view_name": "StyleView",
            "cursor": "grab"
          }
        },
        "255f5fc86c804134b8a6ad07255de9c8": {
          "model_module": "jupyter-leaflet",
          "model_name": "LeafletMapStyleModel",
          "model_module_version": "^0.17",
          "state": {
            "_model_module": "jupyter-leaflet",
            "_model_module_version": "^0.17",
            "_model_name": "LeafletMapStyleModel",
            "_view_count": null,
            "_view_module": "@jupyter-widgets/base",
            "_view_module_version": "1.2.0",
            "_view_name": "StyleView",
            "cursor": "move"
          }
        },
        "ddae6071ac2b46cabf48dac89f3de8d5": {
          "model_module": "jupyter-leaflet",
          "model_name": "LeafletTileLayerModel",
          "model_module_version": "^0.17",
          "state": {
            "_model_module": "jupyter-leaflet",
            "_model_module_version": "^0.17",
            "_model_name": "LeafletTileLayerModel",
            "_view_count": null,
            "_view_module": "jupyter-leaflet",
            "_view_module_version": "^0.17",
            "_view_name": "LeafletTileLayerView",
            "attribution": "&copy; <a href=\"https://www.openstreetmap.org/copyright\">OpenStreetMap</a> contributors",
            "base": true,
            "bottom": true,
            "bounds": null,
            "detect_retina": false,
            "loading": false,
            "max_native_zoom": null,
            "max_zoom": 19,
            "min_native_zoom": null,
            "min_zoom": 1,
            "name": "OpenStreetMap.Mapnik",
            "no_wrap": false,
            "opacity": 1,
            "options": [
              "attribution",
              "bounds",
              "detect_retina",
              "max_native_zoom",
              "max_zoom",
              "min_native_zoom",
              "min_zoom",
              "no_wrap",
              "tile_size",
              "tms",
              "zoom_offset"
            ],
            "pane": "",
            "popup": null,
            "popup_max_height": null,
            "popup_max_width": 300,
            "popup_min_width": 50,
            "show_loading": false,
            "subitems": [],
            "tile_size": 256,
            "tms": false,
            "url": "https://tile.openstreetmap.org/{z}/{x}/{y}.png",
            "visible": true,
            "zoom_offset": 0
          }
        },
        "6f0decf6aee34f9685779c8aa414f9d3": {
          "model_module": "jupyter-leaflet",
          "model_name": "LeafletTileLayerModel",
          "model_module_version": "^0.17",
          "state": {
            "_model_module": "jupyter-leaflet",
            "_model_module_version": "^0.17",
            "_model_name": "LeafletTileLayerModel",
            "_view_count": null,
            "_view_module": "jupyter-leaflet",
            "_view_module_version": "^0.17",
            "_view_name": "LeafletTileLayerView",
            "attribution": "Google",
            "base": false,
            "bottom": true,
            "bounds": null,
            "detect_retina": false,
            "loading": false,
            "max_native_zoom": null,
            "max_zoom": 22,
            "min_native_zoom": null,
            "min_zoom": 0,
            "name": "Google Maps",
            "no_wrap": false,
            "opacity": 1,
            "options": [
              "attribution",
              "bounds",
              "detect_retina",
              "max_native_zoom",
              "max_zoom",
              "min_native_zoom",
              "min_zoom",
              "no_wrap",
              "tile_size",
              "tms",
              "zoom_offset"
            ],
            "pane": "",
            "popup": null,
            "popup_max_height": null,
            "popup_max_width": 300,
            "popup_min_width": 50,
            "show_loading": false,
            "subitems": [],
            "tile_size": 256,
            "tms": false,
            "url": "https://mt1.google.com/vt/lyrs=m&x={x}&y={y}&z={z}",
            "visible": true,
            "zoom_offset": 0
          }
        },
        "88900d0f03434dff88ebd7e0b62b028b": {
          "model_module": "jupyter-leaflet",
          "model_name": "LeafletTileLayerModel",
          "model_module_version": "^0.17",
          "state": {
            "_model_module": "jupyter-leaflet",
            "_model_module_version": "^0.17",
            "_model_name": "LeafletTileLayerModel",
            "_view_count": null,
            "_view_module": "jupyter-leaflet",
            "_view_module_version": "^0.17",
            "_view_name": "LeafletTileLayerView",
            "attribution": "Google Earth Engine",
            "base": false,
            "bottom": true,
            "bounds": null,
            "detect_retina": false,
            "loading": false,
            "max_native_zoom": null,
            "max_zoom": 24,
            "min_native_zoom": null,
            "min_zoom": 0,
            "name": "Hillshade",
            "no_wrap": false,
            "opacity": 0.5,
            "options": [
              "attribution",
              "bounds",
              "detect_retina",
              "max_native_zoom",
              "max_zoom",
              "min_native_zoom",
              "min_zoom",
              "no_wrap",
              "tile_size",
              "tms",
              "zoom_offset"
            ],
            "pane": "",
            "popup": null,
            "popup_max_height": null,
            "popup_max_width": 300,
            "popup_min_width": 50,
            "show_loading": false,
            "subitems": [],
            "tile_size": 256,
            "tms": false,
            "url": "https://earthengine.googleapis.com/v1alpha/projects/earthengine-legacy/maps/72a75be0869c29dfa0e5852f4d6b74a4-4873c056cc58fcae50ea3bbd1db5d3ff/tiles/{z}/{x}/{y}",
            "visible": true,
            "zoom_offset": 0
          }
        },
        "dd544037f0954c868d5703bf9cf07e28": {
          "model_module": "jupyter-leaflet",
          "model_name": "LeafletTileLayerModel",
          "model_module_version": "^0.17",
          "state": {
            "_model_module": "jupyter-leaflet",
            "_model_module_version": "^0.17",
            "_model_name": "LeafletTileLayerModel",
            "_view_count": null,
            "_view_module": "jupyter-leaflet",
            "_view_module_version": "^0.17",
            "_view_name": "LeafletTileLayerView",
            "attribution": "Google Earth Engine",
            "base": false,
            "bottom": true,
            "bounds": null,
            "detect_retina": false,
            "loading": false,
            "max_native_zoom": null,
            "max_zoom": 24,
            "min_native_zoom": null,
            "min_zoom": 0,
            "name": "dem",
            "no_wrap": false,
            "opacity": 0.2,
            "options": [
              "attribution",
              "bounds",
              "detect_retina",
              "max_native_zoom",
              "max_zoom",
              "min_native_zoom",
              "min_zoom",
              "no_wrap",
              "tile_size",
              "tms",
              "zoom_offset"
            ],
            "pane": "",
            "popup": null,
            "popup_max_height": null,
            "popup_max_width": 300,
            "popup_min_width": 50,
            "show_loading": false,
            "subitems": [],
            "tile_size": 256,
            "tms": false,
            "url": "https://earthengine.googleapis.com/v1alpha/projects/earthengine-legacy/maps/60f50798bb08eece7e591d0f54fc8c5b-9b69eef1245e3b7a2c5bc10c938d4360/tiles/{z}/{x}/{y}",
            "visible": true,
            "zoom_offset": 0
          }
        },
        "da93196fa6ea4f2d8ceb4277ae16ddad": {
          "model_module": "jupyter-leaflet",
          "model_name": "LeafletTileLayerModel",
          "model_module_version": "^0.17",
          "state": {
            "_model_module": "jupyter-leaflet",
            "_model_module_version": "^0.17",
            "_model_name": "LeafletTileLayerModel",
            "_view_count": null,
            "_view_module": "jupyter-leaflet",
            "_view_module_version": "^0.17",
            "_view_name": "LeafletTileLayerView",
            "attribution": "Google Earth Engine",
            "base": false,
            "bottom": true,
            "bounds": null,
            "detect_retina": false,
            "loading": false,
            "max_native_zoom": null,
            "max_zoom": 24,
            "min_native_zoom": null,
            "min_zoom": 0,
            "name": "contours",
            "no_wrap": false,
            "opacity": 1,
            "options": [
              "attribution",
              "bounds",
              "detect_retina",
              "max_native_zoom",
              "max_zoom",
              "min_native_zoom",
              "min_zoom",
              "no_wrap",
              "tile_size",
              "tms",
              "zoom_offset"
            ],
            "pane": "",
            "popup": null,
            "popup_max_height": null,
            "popup_max_width": 300,
            "popup_min_width": 50,
            "show_loading": false,
            "subitems": [],
            "tile_size": 256,
            "tms": false,
            "url": "https://earthengine.googleapis.com/v1alpha/projects/earthengine-legacy/maps/e57440a7e749fe919f6cb9deadff636d-41646b8937a4a11bb83c519086e6f4f3/tiles/{z}/{x}/{y}",
            "visible": true,
            "zoom_offset": 0
          }
        },
        "e996f690ce0e42ca83d3b988810b6286": {
          "model_module": "@jupyter-widgets/base",
          "model_name": "LayoutModel",
          "model_module_version": "1.2.0",
          "state": {
            "_model_module": "@jupyter-widgets/base",
            "_model_module_version": "1.2.0",
            "_model_name": "LayoutModel",
            "_view_count": null,
            "_view_module": "@jupyter-widgets/base",
            "_view_module_version": "1.2.0",
            "_view_name": "LayoutView",
            "align_content": null,
            "align_items": null,
            "align_self": null,
            "border": null,
            "bottom": null,
            "display": null,
            "flex": null,
            "flex_flow": null,
            "grid_area": null,
            "grid_auto_columns": null,
            "grid_auto_flow": null,
            "grid_auto_rows": null,
            "grid_column": null,
            "grid_gap": null,
            "grid_row": null,
            "grid_template_areas": null,
            "grid_template_columns": null,
            "grid_template_rows": null,
            "height": "600px",
            "justify_content": null,
            "justify_items": null,
            "left": null,
            "margin": null,
            "max_height": null,
            "max_width": null,
            "min_height": null,
            "min_width": null,
            "object_fit": null,
            "object_position": null,
            "order": null,
            "overflow": null,
            "overflow_x": null,
            "overflow_y": null,
            "padding": null,
            "right": null,
            "top": null,
            "visibility": null,
            "width": null
          }
        },
        "d66e4fad9bd24b5490e75a860dfb4707": {
          "model_module": "jupyter-leaflet",
          "model_name": "LeafletMapStyleModel",
          "model_module_version": "^0.17",
          "state": {
            "_model_module": "jupyter-leaflet",
            "_model_module_version": "^0.17",
            "_model_name": "LeafletMapStyleModel",
            "_view_count": null,
            "_view_module": "@jupyter-widgets/base",
            "_view_module_version": "1.2.0",
            "_view_name": "StyleView",
            "cursor": "grab"
          }
        },
        "53369291ac704dedb3b333474cf2eb3f": {
          "model_module": "@jupyter-widgets/controls",
          "model_name": "HBoxModel",
          "model_module_version": "1.5.0",
          "state": {
            "_dom_classes": [],
            "_model_module": "@jupyter-widgets/controls",
            "_model_module_version": "1.5.0",
            "_model_name": "HBoxModel",
            "_view_count": null,
            "_view_module": "@jupyter-widgets/controls",
            "_view_module_version": "1.5.0",
            "_view_name": "HBoxView",
            "box_style": "",
            "children": [
              "IPY_MODEL_6083648a214843dc8cd3e8677a677f4b"
            ],
            "layout": "IPY_MODEL_3c09128a06264ad590220f79f100cea7"
          }
        },
        "9cbf087107fc42a18fcf7672f25672ef": {
          "model_module": "@jupyter-widgets/controls",
          "model_name": "VBoxModel",
          "model_module_version": "1.5.0",
          "state": {
            "_dom_classes": [],
            "_model_module": "@jupyter-widgets/controls",
            "_model_module_version": "1.5.0",
            "_model_name": "VBoxModel",
            "_view_count": null,
            "_view_module": "@jupyter-widgets/controls",
            "_view_module_version": "1.5.0",
            "_view_name": "VBoxView",
            "box_style": "",
            "children": [
              "IPY_MODEL_0612b008b3074a35859497392bd4734f"
            ],
            "layout": "IPY_MODEL_737331caff4d440fa58bd51084bc07e8"
          }
        },
        "6083648a214843dc8cd3e8677a677f4b": {
          "model_module": "@jupyter-widgets/controls",
          "model_name": "ToggleButtonModel",
          "model_module_version": "1.5.0",
          "state": {
            "_dom_classes": [],
            "_model_module": "@jupyter-widgets/controls",
            "_model_module_version": "1.5.0",
            "_model_name": "ToggleButtonModel",
            "_view_count": null,
            "_view_module": "@jupyter-widgets/controls",
            "_view_module_version": "1.5.0",
            "_view_name": "ToggleButtonView",
            "button_style": "",
            "description": "",
            "description_tooltip": null,
            "disabled": false,
            "icon": "globe",
            "layout": "IPY_MODEL_1766c0dd9f4c4f02a605a0ea5efb5e10",
            "style": "IPY_MODEL_96936f7a48324ab9bdbb467c8db840c6",
            "tooltip": "Search location/data",
            "value": false
          }
        },
        "3c09128a06264ad590220f79f100cea7": {
          "model_module": "@jupyter-widgets/base",
          "model_name": "LayoutModel",
          "model_module_version": "1.2.0",
          "state": {
            "_model_module": "@jupyter-widgets/base",
            "_model_module_version": "1.2.0",
            "_model_name": "LayoutModel",
            "_view_count": null,
            "_view_module": "@jupyter-widgets/base",
            "_view_module_version": "1.2.0",
            "_view_name": "LayoutView",
            "align_content": null,
            "align_items": null,
            "align_self": null,
            "border": null,
            "bottom": null,
            "display": null,
            "flex": null,
            "flex_flow": null,
            "grid_area": null,
            "grid_auto_columns": null,
            "grid_auto_flow": null,
            "grid_auto_rows": null,
            "grid_column": null,
            "grid_gap": null,
            "grid_row": null,
            "grid_template_areas": null,
            "grid_template_columns": null,
            "grid_template_rows": null,
            "height": null,
            "justify_content": null,
            "justify_items": null,
            "left": null,
            "margin": null,
            "max_height": null,
            "max_width": null,
            "min_height": null,
            "min_width": null,
            "object_fit": null,
            "object_position": null,
            "order": null,
            "overflow": null,
            "overflow_x": null,
            "overflow_y": null,
            "padding": null,
            "right": null,
            "top": null,
            "visibility": null,
            "width": null
          }
        },
        "0612b008b3074a35859497392bd4734f": {
          "model_module": "@jupyter-widgets/controls",
          "model_name": "ToggleButtonModel",
          "model_module_version": "1.5.0",
          "state": {
            "_dom_classes": [],
            "_model_module": "@jupyter-widgets/controls",
            "_model_module_version": "1.5.0",
            "_model_name": "ToggleButtonModel",
            "_view_count": null,
            "_view_module": "@jupyter-widgets/controls",
            "_view_module_version": "1.5.0",
            "_view_name": "ToggleButtonView",
            "button_style": "",
            "description": "",
            "description_tooltip": null,
            "disabled": false,
            "icon": "wrench",
            "layout": "IPY_MODEL_c5c6aaae68db49f087a563f4ad51e610",
            "style": "IPY_MODEL_f028e57b96cd455c9060f82f4b67f7c3",
            "tooltip": "Toolbar",
            "value": false
          }
        },
        "737331caff4d440fa58bd51084bc07e8": {
          "model_module": "@jupyter-widgets/base",
          "model_name": "LayoutModel",
          "model_module_version": "1.2.0",
          "state": {
            "_model_module": "@jupyter-widgets/base",
            "_model_module_version": "1.2.0",
            "_model_name": "LayoutModel",
            "_view_count": null,
            "_view_module": "@jupyter-widgets/base",
            "_view_module_version": "1.2.0",
            "_view_name": "LayoutView",
            "align_content": null,
            "align_items": null,
            "align_self": null,
            "border": null,
            "bottom": null,
            "display": null,
            "flex": null,
            "flex_flow": null,
            "grid_area": null,
            "grid_auto_columns": null,
            "grid_auto_flow": null,
            "grid_auto_rows": null,
            "grid_column": null,
            "grid_gap": null,
            "grid_row": null,
            "grid_template_areas": null,
            "grid_template_columns": null,
            "grid_template_rows": null,
            "height": null,
            "justify_content": null,
            "justify_items": null,
            "left": null,
            "margin": null,
            "max_height": null,
            "max_width": null,
            "min_height": null,
            "min_width": null,
            "object_fit": null,
            "object_position": null,
            "order": null,
            "overflow": null,
            "overflow_x": null,
            "overflow_y": null,
            "padding": null,
            "right": null,
            "top": null,
            "visibility": null,
            "width": null
          }
        },
        "1766c0dd9f4c4f02a605a0ea5efb5e10": {
          "model_module": "@jupyter-widgets/base",
          "model_name": "LayoutModel",
          "model_module_version": "1.2.0",
          "state": {
            "_model_module": "@jupyter-widgets/base",
            "_model_module_version": "1.2.0",
            "_model_name": "LayoutModel",
            "_view_count": null,
            "_view_module": "@jupyter-widgets/base",
            "_view_module_version": "1.2.0",
            "_view_name": "LayoutView",
            "align_content": null,
            "align_items": null,
            "align_self": null,
            "border": null,
            "bottom": null,
            "display": null,
            "flex": null,
            "flex_flow": null,
            "grid_area": null,
            "grid_auto_columns": null,
            "grid_auto_flow": null,
            "grid_auto_rows": null,
            "grid_column": null,
            "grid_gap": null,
            "grid_row": null,
            "grid_template_areas": null,
            "grid_template_columns": null,
            "grid_template_rows": null,
            "height": "28px",
            "justify_content": null,
            "justify_items": null,
            "left": null,
            "margin": null,
            "max_height": null,
            "max_width": null,
            "min_height": null,
            "min_width": null,
            "object_fit": null,
            "object_position": null,
            "order": null,
            "overflow": null,
            "overflow_x": null,
            "overflow_y": null,
            "padding": "0px 0px 0px 4px",
            "right": null,
            "top": null,
            "visibility": null,
            "width": "28px"
          }
        },
        "96936f7a48324ab9bdbb467c8db840c6": {
          "model_module": "@jupyter-widgets/controls",
          "model_name": "DescriptionStyleModel",
          "model_module_version": "1.5.0",
          "state": {
            "_model_module": "@jupyter-widgets/controls",
            "_model_module_version": "1.5.0",
            "_model_name": "DescriptionStyleModel",
            "_view_count": null,
            "_view_module": "@jupyter-widgets/base",
            "_view_module_version": "1.2.0",
            "_view_name": "StyleView",
            "description_width": ""
          }
        },
        "c5c6aaae68db49f087a563f4ad51e610": {
          "model_module": "@jupyter-widgets/base",
          "model_name": "LayoutModel",
          "model_module_version": "1.2.0",
          "state": {
            "_model_module": "@jupyter-widgets/base",
            "_model_module_version": "1.2.0",
            "_model_name": "LayoutModel",
            "_view_count": null,
            "_view_module": "@jupyter-widgets/base",
            "_view_module_version": "1.2.0",
            "_view_name": "LayoutView",
            "align_content": null,
            "align_items": null,
            "align_self": null,
            "border": null,
            "bottom": null,
            "display": null,
            "flex": null,
            "flex_flow": null,
            "grid_area": null,
            "grid_auto_columns": null,
            "grid_auto_flow": null,
            "grid_auto_rows": null,
            "grid_column": null,
            "grid_gap": null,
            "grid_row": null,
            "grid_template_areas": null,
            "grid_template_columns": null,
            "grid_template_rows": null,
            "height": "28px",
            "justify_content": null,
            "justify_items": null,
            "left": null,
            "margin": null,
            "max_height": null,
            "max_width": null,
            "min_height": null,
            "min_width": null,
            "object_fit": null,
            "object_position": null,
            "order": null,
            "overflow": null,
            "overflow_x": null,
            "overflow_y": null,
            "padding": "0px 0px 0px 4px",
            "right": null,
            "top": null,
            "visibility": null,
            "width": "28px"
          }
        },
        "f028e57b96cd455c9060f82f4b67f7c3": {
          "model_module": "@jupyter-widgets/controls",
          "model_name": "DescriptionStyleModel",
          "model_module_version": "1.5.0",
          "state": {
            "_model_module": "@jupyter-widgets/controls",
            "_model_module_version": "1.5.0",
            "_model_name": "DescriptionStyleModel",
            "_view_count": null,
            "_view_module": "@jupyter-widgets/base",
            "_view_module_version": "1.2.0",
            "_view_name": "StyleView",
            "description_width": ""
          }
        },
        "3f92f135bb03433190efdd9d6ed6e8ca": {
          "model_module": "jupyter-leaflet",
          "model_name": "LeafletTileLayerModel",
          "model_module_version": "^0.17",
          "state": {
            "_model_module": "jupyter-leaflet",
            "_model_module_version": "^0.17",
            "_model_name": "LeafletTileLayerModel",
            "_view_count": null,
            "_view_module": "jupyter-leaflet",
            "_view_module_version": "^0.17",
            "_view_name": "LeafletTileLayerView",
            "attribution": "Google Earth Engine",
            "base": false,
            "bottom": true,
            "bounds": null,
            "detect_retina": false,
            "loading": false,
            "max_native_zoom": null,
            "max_zoom": 24,
            "min_native_zoom": null,
            "min_zoom": 0,
            "name": "bacias",
            "no_wrap": false,
            "opacity": 1,
            "options": [
              "attribution",
              "bounds",
              "detect_retina",
              "max_native_zoom",
              "max_zoom",
              "min_native_zoom",
              "min_zoom",
              "no_wrap",
              "tile_size",
              "tms",
              "zoom_offset"
            ],
            "pane": "",
            "popup": null,
            "popup_max_height": null,
            "popup_max_width": 300,
            "popup_min_width": 50,
            "show_loading": false,
            "subitems": [],
            "tile_size": 256,
            "tms": false,
            "url": "https://earthengine.googleapis.com/v1alpha/projects/earthengine-legacy/maps/ebacd7a80e883afaa9cdaf5920f93d09-dd74de9f29a3eeeaf3c97b7838e8ee8f/tiles/{z}/{x}/{y}",
            "visible": true,
            "zoom_offset": 0
          }
        },
        "cdd476bff4d1489b883593ba304dfc2c": {
          "model_module": "jupyter-leaflet",
          "model_name": "LeafletTileLayerModel",
          "model_module_version": "^0.17",
          "state": {
            "_model_module": "jupyter-leaflet",
            "_model_module_version": "^0.17",
            "_model_name": "LeafletTileLayerModel",
            "_view_count": null,
            "_view_module": "jupyter-leaflet",
            "_view_module_version": "^0.17",
            "_view_name": "LeafletTileLayerView",
            "attribution": "Google Earth Engine",
            "base": false,
            "bottom": true,
            "bounds": null,
            "detect_retina": false,
            "loading": false,
            "max_native_zoom": null,
            "max_zoom": 24,
            "min_native_zoom": null,
            "min_zoom": 0,
            "name": "Total Precipitation",
            "no_wrap": false,
            "opacity": 1,
            "options": [
              "attribution",
              "bounds",
              "detect_retina",
              "max_native_zoom",
              "max_zoom",
              "min_native_zoom",
              "min_zoom",
              "no_wrap",
              "tile_size",
              "tms",
              "zoom_offset"
            ],
            "pane": "",
            "popup": null,
            "popup_max_height": null,
            "popup_max_width": 300,
            "popup_min_width": 50,
            "show_loading": false,
            "subitems": [],
            "tile_size": 256,
            "tms": false,
            "url": "https://earthengine.googleapis.com/v1alpha/projects/earthengine-legacy/maps/3136a022a8587e07e0b01165ff5fc0bb-7d97ed250c72002296194e4c7bf28327/tiles/{z}/{x}/{y}",
            "visible": true,
            "zoom_offset": 0
          }
        },
        "5fc62c82113c4ce682c7b55a25405f22": {
          "model_module": "jupyter-leaflet",
          "model_name": "LeafletWidgetControlModel",
          "model_module_version": "^0.17",
          "state": {
            "_model_module": "jupyter-leaflet",
            "_model_module_version": "^0.17",
            "_model_name": "LeafletWidgetControlModel",
            "_view_count": null,
            "_view_module": "jupyter-leaflet",
            "_view_module_version": "^0.17",
            "_view_name": "LeafletWidgetControlView",
            "max_height": null,
            "max_width": null,
            "min_height": null,
            "min_width": null,
            "options": [
              "position",
              "transparent_bg"
            ],
            "position": "bottomright",
            "transparent_bg": false,
            "widget": "IPY_MODEL_0cead2b2b34b4707839b808660504aa6"
          }
        },
        "0cead2b2b34b4707839b808660504aa6": {
          "model_module": "@jupyter-widgets/output",
          "model_name": "OutputModel",
          "model_module_version": "1.0.0",
          "state": {
            "_dom_classes": [],
            "_model_module": "@jupyter-widgets/output",
            "_model_module_version": "1.0.0",
            "_model_name": "OutputModel",
            "_view_count": null,
            "_view_module": "@jupyter-widgets/output",
            "_view_module_version": "1.0.0",
            "_view_name": "OutputView",
            "layout": "IPY_MODEL_b6d9811cecee43a8a5bfbd78e3af2a44",
            "msg_id": "",
            "outputs": [
              {
                "output_type": "display_data",
                "data": {
                  "text/plain": "<Figure size 300x30 with 1 Axes>",
                  "image/png": "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\n"
                },
                "metadata": {}
              }
            ]
          }
        },
        "b6d9811cecee43a8a5bfbd78e3af2a44": {
          "model_module": "@jupyter-widgets/base",
          "model_name": "LayoutModel",
          "model_module_version": "1.2.0",
          "state": {
            "_model_module": "@jupyter-widgets/base",
            "_model_module_version": "1.2.0",
            "_model_name": "LayoutModel",
            "_view_count": null,
            "_view_module": "@jupyter-widgets/base",
            "_view_module_version": "1.2.0",
            "_view_name": "LayoutView",
            "align_content": null,
            "align_items": null,
            "align_self": null,
            "border": null,
            "bottom": null,
            "display": null,
            "flex": null,
            "flex_flow": null,
            "grid_area": null,
            "grid_auto_columns": null,
            "grid_auto_flow": null,
            "grid_auto_rows": null,
            "grid_column": null,
            "grid_gap": null,
            "grid_row": null,
            "grid_template_areas": null,
            "grid_template_columns": null,
            "grid_template_rows": null,
            "height": null,
            "justify_content": null,
            "justify_items": null,
            "left": null,
            "margin": null,
            "max_height": null,
            "max_width": null,
            "min_height": null,
            "min_width": null,
            "object_fit": null,
            "object_position": null,
            "order": null,
            "overflow": null,
            "overflow_x": null,
            "overflow_y": null,
            "padding": null,
            "right": null,
            "top": null,
            "visibility": null,
            "width": null
          }
        },
        "77aa13e3ba064a86acec8a2c9279e4f9": {
          "model_module": "jupyter-leaflet",
          "model_name": "LeafletLayersControlModel",
          "model_module_version": "^0.17",
          "state": {
            "_model_module": "jupyter-leaflet",
            "_model_module_version": "^0.17",
            "_model_name": "LeafletLayersControlModel",
            "_view_count": null,
            "_view_module": "jupyter-leaflet",
            "_view_module_version": "^0.17",
            "_view_name": "LeafletLayersControlView",
            "options": [
              "position"
            ],
            "position": "topright"
          }
        }
      }
    }
  },
  "cells": [
    {
      "cell_type": "markdown",
      "metadata": {
        "id": "view-in-github",
        "colab_type": "text"
      },
      "source": [
        "<a href=\"https://colab.research.google.com/github/gilcapote/python_geospatial/blob/main/gee_testes.ipynb\" target=\"_parent\"><img src=\"https://colab.research.google.com/assets/colab-badge.svg\" alt=\"Open In Colab\"/></a>"
      ]
    },
    {
      "cell_type": "code",
      "source": [
        "# !pip install geemap"
      ],
      "metadata": {
        "id": "YStObSHLdehB"
      },
      "execution_count": 287,
      "outputs": []
    },
    {
      "cell_type": "code",
      "execution_count": 288,
      "metadata": {
        "id": "PE086uUGc8H0"
      },
      "outputs": [],
      "source": [
        "import ee\n",
        "import geemap\n",
        "import geemap.colormaps as cm"
      ]
    },
    {
      "cell_type": "code",
      "source": [
        "Map = geemap.Map(center=(-30,-51), zoom=5)\n",
        "Map"
      ],
      "metadata": {
        "colab": {
          "base_uri": "https://localhost:8080/",
          "height": 621,
          "referenced_widgets": [
            "3d79a2663fff451cae10d26169956b5e",
            "320d13a4c37644e690f981f4a09f9de7",
            "eb472e94e1454683a2018ff0c6918baa",
            "2d147521e4ef4430985043f0f236e1f8",
            "9d95954e12c34790aca056c3ce922d22",
            "cd8fc36a7f50413393e6f5fef46fac7c",
            "c05654a6c4eb4c7ebe169d7aa02c0886",
            "edee9f6b72ed42d396560c3faf734472",
            "345d058390f44d1f91f20870d58827df",
            "db2bcc59ef994e26ab3c82490aac1b8b",
            "255f5fc86c804134b8a6ad07255de9c8",
            "ddae6071ac2b46cabf48dac89f3de8d5",
            "6f0decf6aee34f9685779c8aa414f9d3",
            "88900d0f03434dff88ebd7e0b62b028b",
            "dd544037f0954c868d5703bf9cf07e28",
            "da93196fa6ea4f2d8ceb4277ae16ddad",
            "e996f690ce0e42ca83d3b988810b6286",
            "d66e4fad9bd24b5490e75a860dfb4707",
            "53369291ac704dedb3b333474cf2eb3f",
            "9cbf087107fc42a18fcf7672f25672ef",
            "6083648a214843dc8cd3e8677a677f4b",
            "3c09128a06264ad590220f79f100cea7",
            "0612b008b3074a35859497392bd4734f",
            "737331caff4d440fa58bd51084bc07e8",
            "1766c0dd9f4c4f02a605a0ea5efb5e10",
            "96936f7a48324ab9bdbb467c8db840c6",
            "c5c6aaae68db49f087a563f4ad51e610",
            "f028e57b96cd455c9060f82f4b67f7c3",
            "3f92f135bb03433190efdd9d6ed6e8ca",
            "cdd476bff4d1489b883593ba304dfc2c",
            "5fc62c82113c4ce682c7b55a25405f22",
            "0cead2b2b34b4707839b808660504aa6",
            "b6d9811cecee43a8a5bfbd78e3af2a44",
            "77aa13e3ba064a86acec8a2c9279e4f9"
          ]
        },
        "id": "CpAoATGjdcs5",
        "outputId": "4cf36ec0-2572-4c86-afd7-1aa7c2fcde07"
      },
      "execution_count": 289,
      "outputs": [
        {
          "output_type": "display_data",
          "data": {
            "text/plain": [
              "Map(center=[-30, -51], controls=(WidgetControl(options=['position', 'transparent_bg'], widget=HBox(children=(T…"
            ],
            "application/vnd.jupyter.widget-view+json": {
              "version_major": 2,
              "version_minor": 0,
              "model_id": "3d79a2663fff451cae10d26169956b5e"
            }
          },
          "metadata": {
            "application/vnd.jupyter.widget-view+json": {
              "colab": {
                "custom_widget_manager": {
                  "url": "https://ssl.gstatic.com/colaboratory-static/widgets/colab-cdn-widget-manager/b3e629b1971e1542/manager.min.js"
                }
              }
            }
          }
        }
      ]
    },
    {
      "cell_type": "code",
      "source": [
        "image = ee.Image(\"USGS/SRTMGL1_003\")"
      ],
      "metadata": {
        "id": "cQ0X7odLdxiO"
      },
      "execution_count": 290,
      "outputs": []
    },
    {
      "cell_type": "code",
      "source": [
        "hillshade = ee.Terrain.hillshade(image)"
      ],
      "metadata": {
        "id": "y-6_Mcc5d-_v"
      },
      "execution_count": 291,
      "outputs": []
    },
    {
      "cell_type": "code",
      "source": [
        "Map.addLayer(hillshade, {}, \"Hillshade\", opacity=0.5)"
      ],
      "metadata": {
        "id": "AB2Fl1WPfdiy"
      },
      "execution_count": 292,
      "outputs": []
    },
    {
      "cell_type": "code",
      "source": [
        "Map.addLayer(\n",
        "    image, {'min': 0, \"max\": 2000, \"palette\": cm.palettes.dem}, \"dem\", True, 0.2\n",
        ")"
      ],
      "metadata": {
        "id": "L6hCqCsdfgB4"
      },
      "execution_count": 293,
      "outputs": []
    },
    {
      "cell_type": "code",
      "source": [
        "contours = geemap.create_contours(image, 0, 2000, 100, region=None)"
      ],
      "metadata": {
        "id": "PtGz5j-CfrMP"
      },
      "execution_count": 294,
      "outputs": []
    },
    {
      "cell_type": "code",
      "source": [
        "Map.addLayer(\n",
        "    contours, {'min': 0, \"max\": 2000, 'palette': cm.palettes.terrain}, 'contours'\n",
        ")"
      ],
      "metadata": {
        "id": "Y8S0jeFjfyue"
      },
      "execution_count": 295,
      "outputs": []
    },
    {
      "cell_type": "code",
      "source": [
        "# Map.setCenter(-51,-30)"
      ],
      "metadata": {
        "id": "xbEdlQEhf1uA"
      },
      "execution_count": 296,
      "outputs": []
    },
    {
      "cell_type": "code",
      "source": [
        "bacias = ee.FeatureCollection(\"WWF/HydroATLAS/v1/Basins/level05\")\n",
        "# bacias\n",
        "# get('HYBAS_ID')\n",
        "# print('Client-side feature collection is an object', typeof bacias);\n",
        "# print('Feature collection object keys', Object.keys(bacias));\n",
        "# print('Array of features', bacias.features)\n",
        "# print('Properties of first feature', bacias.features[0].properties)"
      ],
      "metadata": {
        "id": "WZXWjhj7ghOJ"
      },
      "execution_count": 297,
      "outputs": []
    },
    {
      "cell_type": "code",
      "source": [
        "# // Define a region roughly covering the continental US.\n",
        "sa = ee.Geometry.Rectangle(-80.0, 12.0, -35, -60);\n",
        "\n",
        "# sa = bacias.filter(ee.Filter.eq('HYBAS_ID', 6))\n",
        "# // Filter the table geographically: only watersheds in the continental US.\n",
        "filtered_bacias = bacias.filterBounds(sa);\n",
        "# filtered_bacias"
      ],
      "metadata": {
        "id": "UIl2AmPcoNwv"
      },
      "execution_count": 298,
      "outputs": []
    },
    {
      "cell_type": "code",
      "source": [
        "Map.addLayer(\n",
        "    filtered_bacias , None,'bacias'\n",
        ")"
      ],
      "metadata": {
        "id": "Fy3INMsIlhUP"
      },
      "execution_count": 299,
      "outputs": []
    },
    {
      "cell_type": "code",
      "source": [
        "chirps = ee.ImageCollection(\"UCSB-CHG/CHIRPS/DAILY\")"
      ],
      "metadata": {
        "id": "VSIfDsFulq46"
      },
      "execution_count": 300,
      "outputs": []
    },
    {
      "cell_type": "code",
      "source": [
        "year = 2022\n",
        "startDate = ee.Date.fromYMD(year, 1, 1)\n",
        "endDate = startDate.advance(2, 'year')\n",
        "filtered = chirps.filter(ee.Filter.date(startDate, endDate))\n",
        "filtered_data= filtered.filterBounds(sa)\n",
        "total = filtered_data.reduce(ee.Reducer.sum())"
      ],
      "metadata": {
        "id": "cQ-2Q9MZsfk1"
      },
      "execution_count": 301,
      "outputs": []
    },
    {
      "cell_type": "code",
      "source": [
        "palette = ['#ffffcc','#a1dab4','#41b6c4','#2c7fb8','#253494']\n",
        "visParams = {'min':0, 'max': 2000, 'palette': palette}\n",
        "Map.addLayer(total, visParams, 'Total Precipitation')\n"
      ],
      "metadata": {
        "id": "wBdyHL-MtMwn"
      },
      "execution_count": 302,
      "outputs": []
    },
    {
      "cell_type": "code",
      "source": [
        "colors = visParams['palette']\n",
        "vmin = visParams['min']\n",
        "vmax = visParams['max']\n",
        "\n",
        "Map.add_colorbar(visParams, label='Precipitação Anual (mm) em 2022')\n",
        "\n",
        "Map.addLayerControl()\n"
      ],
      "metadata": {
        "id": "NvqTjo9xviOe"
      },
      "execution_count": 303,
      "outputs": []
    },
    {
      "cell_type": "code",
      "source": [
        "# legends = geemap.builtin_legends\n",
        "# for legend in legends:\n",
        "#     print(legend)"
      ],
      "metadata": {
        "id": "7D-YrXuFtgPG"
      },
      "execution_count": 304,
      "outputs": []
    },
    {
      "cell_type": "code",
      "source": [],
      "metadata": {
        "id": "7_JYfRqQt72N"
      },
      "execution_count": 304,
      "outputs": []
    }
  ]
}